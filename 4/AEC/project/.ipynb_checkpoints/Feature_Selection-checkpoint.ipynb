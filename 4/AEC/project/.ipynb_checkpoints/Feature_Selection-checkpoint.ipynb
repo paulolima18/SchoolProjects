{
 "cells": [
  {
   "cell_type": "markdown",
   "metadata": {},
   "source": [
    "# Feature Selection"
   ]
  },
  {
   "cell_type": "code",
   "execution_count": 5,
   "metadata": {},
   "outputs": [],
   "source": [
    "import pandas as pd\n",
    "from sklearn import preprocessing\n",
    "from sklearn.feature_selection import SelectKBest, f_classif, chi2\n",
    "\n",
    "\n",
    "training = pd.read_csv(\"training.csv\",sep=\";\")\n",
    "test= pd.read_csv(\"test.csv\",sep=\";\")\n",
    "\n",
    "\n",
    "# label_encoder object knows how to understand word labels. \n",
    "label_encoder = preprocessing.LabelEncoder() \n",
    "# Encode labels in column 'species'. \n",
    "training[' workclass']= label_encoder.fit_transform(training[' workclass'])\n",
    "training[' education']= label_encoder.fit_transform(training[' education'])\n",
    "training[' marital-status']= label_encoder.fit_transform(training[' marital-status'])\n",
    "training[' occupation']= label_encoder.fit_transform(training[' occupation'])\n",
    "training[' relationship']= label_encoder.fit_transform(training[' relationship'])\n",
    "training[' race']= label_encoder.fit_transform(training[' race'])\n",
    "training[' sex']= label_encoder.fit_transform(training[' sex'])\n",
    "training[' native-country']= label_encoder.fit_transform(training[' native-country'])\n",
    "training[' salary-classification']= label_encoder.fit_transform(training[' salary-classification'])\n",
    "\n",
    "#test\n",
    "\n",
    "# label_encoder object knows how to understand word labels. \n",
    "label_encoder = preprocessing.LabelEncoder() \n",
    "# Encode labels in column 'species'. \n",
    "test[' workclass']= label_encoder.fit_transform(test[' workclass'])\n",
    "test[' education']= label_encoder.fit_transform(test[' education'])\n",
    "test[' marital-status']= label_encoder.fit_transform(test[' marital-status'])\n",
    "test[' occupation']= label_encoder.fit_transform(test[' occupation'])\n",
    "test[' relationship']= label_encoder.fit_transform(test[' relationship'])\n",
    "test[' race']= label_encoder.fit_transform(test[' race'])\n",
    "test[' sex']= label_encoder.fit_transform(test[' sex'])\n",
    "test[' native-country']= label_encoder.fit_transform(test[' native-country'])\n",
    "test[' salary-classification']= label_encoder.fit_transform(test[' salary-classification'])\n",
    "\n",
    "\n",
    "\n",
    "data = training[['age', ' workclass', ' fnlwgt', ' education', ' education-num', ' marital-status', ' occupation', \n",
    "             ' relationship', ' race', ' sex', ' capital-gain', ' capital-loss', ' hours-per-week', ' native-country']]\n",
    "target = training[' salary-classification']\n",
    "\n",
    "\n",
    "data_test = test[['age', ' workclass', ' fnlwgt', ' education', ' education-num', ' marital-status', ' occupation', \n",
    "             ' relationship', ' race', ' sex', ' capital-gain', ' capital-loss', ' hours-per-week', ' native-country']]\n",
    "target_test = test[' salary-classification']\n"
   ]
  },
  {
   "cell_type": "code",
   "execution_count": 14,
   "metadata": {},
   "outputs": [
    {
     "data": {
      "text/html": [
       "<div>\n",
       "<style scoped>\n",
       "    .dataframe tbody tr th:only-of-type {\n",
       "        vertical-align: middle;\n",
       "    }\n",
       "\n",
       "    .dataframe tbody tr th {\n",
       "        vertical-align: top;\n",
       "    }\n",
       "\n",
       "    .dataframe thead th {\n",
       "        text-align: right;\n",
       "    }\n",
       "</style>\n",
       "<table border=\"1\" class=\"dataframe\">\n",
       "  <thead>\n",
       "    <tr style=\"text-align: right;\">\n",
       "      <th></th>\n",
       "      <th>0</th>\n",
       "    </tr>\n",
       "  </thead>\n",
       "  <tbody>\n",
       "    <tr>\n",
       "      <th>age</th>\n",
       "      <td>0</td>\n",
       "    </tr>\n",
       "    <tr>\n",
       "      <th>workclass</th>\n",
       "      <td>0</td>\n",
       "    </tr>\n",
       "    <tr>\n",
       "      <th>fnlwgt</th>\n",
       "      <td>0</td>\n",
       "    </tr>\n",
       "    <tr>\n",
       "      <th>education</th>\n",
       "      <td>0</td>\n",
       "    </tr>\n",
       "    <tr>\n",
       "      <th>education-num</th>\n",
       "      <td>0</td>\n",
       "    </tr>\n",
       "    <tr>\n",
       "      <th>marital-status</th>\n",
       "      <td>0</td>\n",
       "    </tr>\n",
       "    <tr>\n",
       "      <th>occupation</th>\n",
       "      <td>0</td>\n",
       "    </tr>\n",
       "    <tr>\n",
       "      <th>relationship</th>\n",
       "      <td>0</td>\n",
       "    </tr>\n",
       "    <tr>\n",
       "      <th>race</th>\n",
       "      <td>0</td>\n",
       "    </tr>\n",
       "    <tr>\n",
       "      <th>sex</th>\n",
       "      <td>0</td>\n",
       "    </tr>\n",
       "    <tr>\n",
       "      <th>capital-gain</th>\n",
       "      <td>0</td>\n",
       "    </tr>\n",
       "    <tr>\n",
       "      <th>capital-loss</th>\n",
       "      <td>0</td>\n",
       "    </tr>\n",
       "    <tr>\n",
       "      <th>hours-per-week</th>\n",
       "      <td>0</td>\n",
       "    </tr>\n",
       "    <tr>\n",
       "      <th>native-country</th>\n",
       "      <td>0</td>\n",
       "    </tr>\n",
       "  </tbody>\n",
       "</table>\n",
       "</div>"
      ],
      "text/plain": [
       "                 0\n",
       "age              0\n",
       " workclass       0\n",
       " fnlwgt          0\n",
       " education       0\n",
       " education-num   0\n",
       " marital-status  0\n",
       " occupation      0\n",
       " relationship    0\n",
       " race            0\n",
       " sex             0\n",
       " capital-gain    0\n",
       " capital-loss    0\n",
       " hours-per-week  0\n",
       " native-country  0"
      ]
     },
     "execution_count": 14,
     "metadata": {},
     "output_type": "execute_result"
    }
   ],
   "source": [
    "pd.DataFrame(data.isnull().sum())"
   ]
  },
  {
   "cell_type": "markdown",
   "metadata": {},
   "source": [
    "# Filter methods"
   ]
  },
  {
   "cell_type": "markdown",
   "metadata": {},
   "source": [
    "### SelectKBest"
   ]
  },
  {
   "cell_type": "code",
   "execution_count": 7,
   "metadata": {},
   "outputs": [
    {
     "data": {
      "text/plain": [
       "array([8.60061182e+03, 4.75081192e+01, 1.71147683e+05, 2.97942270e+02,\n",
       "       2.40142178e+03, 1.12346982e+03, 5.04558854e+02, 3.65914312e+03,\n",
       "       3.30313051e+01, 5.02439419e+02, 8.21924671e+07, 1.37214589e+06,\n",
       "       6.47640900e+03, 1.36192560e+01])"
      ]
     },
     "execution_count": 7,
     "metadata": {},
     "output_type": "execute_result"
    }
   ],
   "source": [
    "#selectkbest\n",
    "selector = SelectKBest(chi2, k=10) #testar de 1 a 19\n",
    "fit = selector.fit(data, target)\n",
    "#features selection\n",
    "cols = selector.get_support(indices=True)\n",
    "cols_names = list(data.columns[cols])\n",
    "selector.get_support(indices=True)\n",
    "fit.scores_"
   ]
  },
  {
   "cell_type": "markdown",
   "metadata": {},
   "source": [
    "### VarianceThreshold"
   ]
  },
  {
   "cell_type": "code",
   "execution_count": 8,
   "metadata": {},
   "outputs": [
    {
     "data": {
      "text/plain": [
       "array([7.30000000e+01, 2.11975372e+00, 1.47242000e+06, 1.49784830e+01,\n",
       "       6.61868663e+00, 2.26863420e+00, 1.40000000e+01, 2.58163360e+00,\n",
       "       7.20448827e-01, 2.21369502e-01, 9.99990000e+04, 4.35600000e+03,\n",
       "       9.80000000e+01, 4.10000000e+01])"
      ]
     },
     "execution_count": 8,
     "metadata": {},
     "output_type": "execute_result"
    }
   ],
   "source": [
    "from sklearn.feature_selection import VarianceThreshold\n",
    "selector = VarianceThreshold()\n",
    "selector.fit_transform(data)\n",
    "selector.variances_"
   ]
  },
  {
   "cell_type": "markdown",
   "metadata": {},
   "source": [
    "# Wrapper methods"
   ]
  },
  {
   "cell_type": "markdown",
   "metadata": {},
   "source": [
    "### Recursive Feature Elimination"
   ]
  },
  {
   "cell_type": "code",
   "execution_count": 10,
   "metadata": {},
   "outputs": [
    {
     "name": "stderr",
     "output_type": "stream",
     "text": [
      "c:\\users\\maria\\appdata\\local\\programs\\python\\python38-32\\lib\\site-packages\\sklearn\\utils\\validation.py:67: FutureWarning: Pass n_features_to_select=10 as keyword args. From version 0.25 passing these as positional arguments will result in an error\n",
      "  warnings.warn(\"Pass {} as keyword args. From version 0.25 \"\n"
     ]
    },
    {
     "name": "stdout",
     "output_type": "stream",
     "text": [
      "[ True  True False  True  True  True  True  True  True  True False False\n",
      "  True False]\n",
      "[1 1 5 1 1 1 1 1 1 1 4 3 1 2]\n"
     ]
    },
    {
     "data": {
      "text/plain": [
       "array([ 0,  1,  3,  4,  5,  6,  7,  8,  9, 12], dtype=int32)"
      ]
     },
     "execution_count": 10,
     "metadata": {},
     "output_type": "execute_result"
    }
   ],
   "source": [
    "from sklearn.feature_selection import RFE\n",
    "from sklearn.linear_model import LogisticRegression\n",
    "\n",
    "\n",
    "model = LogisticRegression(solver='lbfgs',max_iter=5000)\n",
    "rfe = RFE(model,10)\n",
    "fit = rfe.fit(data,target)\n",
    "print(fit.support_)\n",
    "print(fit.ranking_)\n",
    "cols = rfe.get_support(indices=True)\n",
    "cols_names = list(data.columns[cols])\n",
    "cols"
   ]
  },
  {
   "cell_type": "markdown",
   "metadata": {},
   "source": [
    "# Embedded methods"
   ]
  },
  {
   "cell_type": "markdown",
   "metadata": {},
   "source": [
    "### Principal Component Analysis"
   ]
  },
  {
   "cell_type": "code",
   "execution_count": 12,
   "metadata": {},
   "outputs": [
    {
     "name": "stdout",
     "output_type": "stream",
     "text": [
      "[9.95113633e-01 4.87183945e-03 1.44878129e-05 1.66472783e-08\n",
      " 1.32821762e-08 5.46332990e-09 1.60533706e-09 1.42986911e-09\n",
      " 4.49647372e-10 2.17725494e-10 1.75033388e-10 1.68427510e-10\n",
      " 6.16270754e-11 1.23071689e-11]\n"
     ]
    }
   ],
   "source": [
    "from sklearn.decomposition import PCA\n",
    "\n",
    "pca=PCA()\n",
    "fit=pca.fit(data)\n",
    "print(fit.explained_variance_ratio_)"
   ]
  },
  {
   "cell_type": "markdown",
   "metadata": {},
   "source": [
    "### Feature Importance"
   ]
  },
  {
   "cell_type": "code",
   "execution_count": 13,
   "metadata": {},
   "outputs": [
    {
     "data": {
      "text/plain": [
       "array([0.16652223, 0.04498153, 0.16339744, 0.04158615, 0.08359418,\n",
       "       0.06766071, 0.07706281, 0.08304814, 0.01443687, 0.02676704,\n",
       "       0.09135605, 0.02883226, 0.09281332, 0.01794127])"
      ]
     },
     "execution_count": 13,
     "metadata": {},
     "output_type": "execute_result"
    }
   ],
   "source": [
    "from sklearn.ensemble import ExtraTreesClassifier\n",
    "\n",
    "\n",
    "model = ExtraTreesClassifier(n_estimators=19)\n",
    "model.fit(data, target)\n",
    "model.feature_importances_"
   ]
  },
  {
   "cell_type": "code",
   "execution_count": null,
   "metadata": {},
   "outputs": [],
   "source": []
  }
 ],
 "metadata": {
  "kernelspec": {
   "display_name": "Python 3",
   "language": "python",
   "name": "python3"
  },
  "language_info": {
   "codemirror_mode": {
    "name": "ipython",
    "version": 3
   },
   "file_extension": ".py",
   "mimetype": "text/x-python",
   "name": "python",
   "nbconvert_exporter": "python",
   "pygments_lexer": "ipython3",
   "version": "3.8.3"
  }
 },
 "nbformat": 4,
 "nbformat_minor": 4
}
